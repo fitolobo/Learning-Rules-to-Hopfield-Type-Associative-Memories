{
 "cells": [
  {
   "cell_type": "code",
   "execution_count": 1,
   "metadata": {},
   "outputs": [],
   "source": [
    "using LinearAlgebra\n",
    "using PyPlot\n",
    "using Random\n",
    "using Statistics\n",
    "using Printf\n",
    "using JLD2, FileIO\n",
    "using ProgressMeter\n",
    "include(\"ILearning.jl\");\n",
    "rng = MersenneTwister(1234);"
   ]
  },
  {
   "cell_type": "markdown",
   "metadata": {},
   "source": [
    "#### $N$ is the dimension of the memory elements and $P$ the number of fundamental memories. "
   ]
  },
  {
   "cell_type": "code",
   "execution_count": 6,
   "metadata": {},
   "outputs": [],
   "source": [
    "N = 200;\n",
    "P = 10;"
   ]
  },
  {
   "cell_type": "markdown",
   "metadata": {},
   "source": [
    "#### $\\mathtt{NoiseValues}$ is the vector of noise levels, $\\mathtt{Nsim}$ the number of simulations and $\\mathtt{it}_{\\mathtt{max}}$ the maximum number of iterations for the Hopfield neural network. "
   ]
  },
  {
   "cell_type": "code",
   "execution_count": 7,
   "metadata": {},
   "outputs": [
    {
     "data": {
      "text/plain": [
       "\"Projection\""
      ]
     },
     "execution_count": 7,
     "metadata": {},
     "output_type": "execute_result"
    }
   ],
   "source": [
    "### Noise Level Vector\n",
    "n = 50\n",
    "NoiseValues =  0:1/(n-1):1\n",
    "\n",
    "Nnoise = length(NoiseValues )\n",
    "\n",
    "## Noise Vector\n",
    "Success_0 = zeros(Int64,(1,length(NoiseValues )));\n",
    "\n",
    "### Number of Simulations\n",
    "Nsim = 300\n",
    "\n",
    "### Number of maximum iterations for the HNN model\n",
    "it_max =1000\n",
    "\n",
    "### Rule Name\n",
    "rule = \"Projection\""
   ]
  },
  {
   "cell_type": "markdown",
   "metadata": {},
   "source": [
    "#### Recall Experiment"
   ]
  },
  {
   "cell_type": "code",
   "execution_count": 8,
   "metadata": {},
   "outputs": [
    {
     "name": "stderr",
     "output_type": "stream",
     "text": [
      "\u001b[32mProgress: 100%|█████████████████████████████████████████| Time: 0:00:06\u001b[39m\n"
     ]
    }
   ],
   "source": [
    "# First Order W matrix\n",
    "Wc = zeros(N,N)\n",
    "@showprogress for s = 1:Nsim\n",
    "\n",
    "    U = 2*rand(rng,Bool,(N,P)).-1;\n",
    "\n",
    "    Wc = ILearning.Projection(U)\n",
    "\n",
    "\n",
    "    for i = 1:Nnoise\n",
    "\n",
    "        xr = ILearning.noise(U[:,1], [1,-1],NoiseValues[i])\n",
    "        \n",
    "        y = ILearning.Asy(Wc,xr,it_max)\n",
    "        \n",
    "        Error = norm(U[:,1]-y)\n",
    "\n",
    "        if Error<1.e-4\n",
    "            Success_0[i] = Success_0[i] + 1\n",
    "        end\n",
    "        \n",
    "\n",
    "    end\n",
    "    \n",
    "@save \"JLDs/Projection10.jld2\" NoiseValues Success_0 Nsim P\n",
    "end\n",
    "\n"
   ]
  },
  {
   "cell_type": "markdown",
   "metadata": {},
   "source": [
    "#### Creating the plot"
   ]
  },
  {
   "cell_type": "code",
   "execution_count": 9,
   "metadata": {},
   "outputs": [
    {
     "data": {
      "image/png": "[encoded data removed]",
      "text/plain": [
       "Figure(PyObject <Figure size 640x480 with 1 Axes>)"
      ]
     },
     "metadata": {},
     "output_type": "display_data"
    },
    {
     "name": "stderr",
     "output_type": "stream",
     "text": [
      "The PostScript backend does not support transparency; partially transparent artists will be rendered opaque.\n",
      "The PostScript backend does not support transparency; partially transparent artists will be rendered opaque.\n",
      "The PostScript backend does not support transparency; partially transparent artists will be rendered opaque.\n",
      "The PostScript backend does not support transparency; partially transparent artists will be rendered opaque.\n"
     ]
    }
   ],
   "source": [
    "@load \"JLDs/Projection10.jld2\"\n",
    "rcParams = PyPlot.PyDict(PyPlot.matplotlib.\"rcParams\")\n",
    "font0 = Dict(\n",
    "        \"font.size\" => 18,\n",
    "        \"axes.labelweight\" => \"bold\",\n",
    "        \"axes.labelsize\" => 16,\n",
    "        \"xtick.labelsize\" => 16,\n",
    "        \"ytick.labelsize\" => 16,\n",
    "        \"legend.fontsize\" => 12,\n",
    ")\n",
    "rule = \"Hebb Rule\"\n",
    "plot(NoiseValues,Success_0[1,:]/Nsim,linewidth=1.5, color=\"#d62728\",marker=\"<\",markersize = 10,\n",
    "             markeredgewidth=1.5, markeredgecolor=(0,0,0),markevery=(0,2),label=\"Storkey\"*rule)\n",
    "\n",
    "grid(linestyle=\"dotted\")\n",
    "xlabel(\"Noise Probability\")\n",
    "ylabel(\"Recall Probability\")\n",
    "legend()\n",
    "\n",
    "### Loading String Name\n",
    "name = \"Binary Hopfield Neural Network\"\n",
    "legend()\n",
    "grid()\n",
    "\n",
    "savefig(\"Figures/Projection10.eps\")\n",
    "savefig(\"Figures/Projection10.eps\")"
   ]
  },
  {
   "cell_type": "code",
   "execution_count": null,
   "metadata": {},
   "outputs": [],
   "source": []
  }
 ],
 "metadata": {
  "kernelspec": {
   "display_name": "Julia 1.3.1",
   "language": "julia",
   "name": "julia-1.3"
  },
  "language_info": {
   "file_extension": ".jl",
   "mimetype": "application/julia",
   "name": "julia",
   "version": "1.3.1"
  }
 },
 "nbformat": 4,
 "nbformat_minor": 2
}
