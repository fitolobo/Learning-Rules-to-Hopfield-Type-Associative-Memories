{
 "cells": [
  {
   "cell_type": "code",
   "execution_count": 1,
   "metadata": {},
   "outputs": [],
   "source": [
    "# Pacotes utilizados\n",
    "using PyPlot\n",
    "using LinearAlgebra\n",
    "using Random\n",
    "using Statistics\n",
    "using Printf\n",
    "using JLD2, FileIO\n",
    "using ProgressMeter\n",
    "include(\"Ilearning.jl\")\n",
    "rng = MersenneTwister(1234);"
   ]
  },
  {
   "cell_type": "code",
   "execution_count": 8,
   "metadata": {},
   "outputs": [
    {
     "data": {
      "text/plain": [
       "1000"
      ]
     },
     "execution_count": 8,
     "metadata": {},
     "output_type": "execute_result"
    }
   ],
   "source": [
    "# Número de memorias\n",
    "Pv = 1:5:40\n",
    "N = 200\n",
    "# Number of simulations\n",
    "Nsim = 300\n",
    "\n",
    "# numero maximo de iterações\n",
    "it_max = 1000"
   ]
  },
  {
   "cell_type": "code",
   "execution_count": 9,
   "metadata": {},
   "outputs": [
    {
     "data": {
      "text/plain": [
       "0.3"
      ]
     },
     "execution_count": 9,
     "metadata": {},
     "output_type": "execute_result"
    }
   ],
   "source": [
    "NoiseValues = 0.3"
   ]
  },
  {
   "cell_type": "code",
   "execution_count": 10,
   "metadata": {},
   "outputs": [
    {
     "data": {
      "text/plain": [
       "([1, -1], Complex{Float64}[1.0 + 1.0im, 1.0 - 1.0im, -1.0 + 1.0im, -1.0 - 1.0im])"
      ]
     },
     "execution_count": 10,
     "metadata": {},
     "output_type": "execute_result"
    }
   ],
   "source": [
    "BinaryStates, ComplexStates = ILearning.Multi_Estados()"
   ]
  },
  {
   "cell_type": "code",
   "execution_count": 11,
   "metadata": {},
   "outputs": [],
   "source": [
    "Success_total_0 = zeros(Float64,(length(Pv),));\n",
    "Success_total_1 = zeros(Float64,(length(Pv),));\n",
    "Success_total_2 = zeros(Float64,(length(Pv),));\n",
    "Success_total_3 = zeros(Float64,(length(Pv),));"
   ]
  },
  {
   "cell_type": "code",
   "execution_count": null,
   "metadata": {},
   "outputs": [
    {
     "name": "stdout",
     "output_type": "stream",
     "text": [
      "Iteracion\n",
      "1\n",
      " \n"
     ]
    },
    {
     "name": "stderr",
     "output_type": "stream",
     "text": [
      "\r",
      "\u001b[32mProgress:  12%|█████▏                                   |  ETA: 0:01:03\u001b[39m"
     ]
    }
   ],
   "source": [
    "@showprogress for i=1:length(Pv)\n",
    "    \n",
    "    P = Pv[i]\n",
    "    \n",
    "    println(\"Iteracion\")\n",
    "    println(i)\n",
    "    println(\" \")\n",
    "    \n",
    "    Success_0 = zeros(Int64,(Nsim,));\n",
    "    Success_1 = zeros(Int64,(Nsim,));\n",
    "    Success_2 = zeros(Int64,(Nsim,));\n",
    "    Success_3 = zeros(Int64,(Nsim,)); \n",
    "    \n",
    "    # Synthetic fundamental memory matrix\n",
    "    U = 2*rand(rng,Bool,(N,P)).-1;\n",
    "    \n",
    "    for j =1:Nsim\n",
    "        \n",
    "        # Generic Binary Corrupted Vector\n",
    "        xr = ILearning.noise(U[:,1], BinaryStates,NoiseValues)    \n",
    "        \n",
    "########################################################################################\n",
    "### Storing Rules ######################################################################\n",
    "########################################################################################        \n",
    "        W1 = ILearning.train(ILearning.first,U,nothing)\n",
    "        W2 = ILearning.train(ILearning.second,U,nothing)\n",
    "        Wc = ILearning.Correlation(U,nothing);\n",
    "        Wp = ILearning.Projection(U)\n",
    "      \n",
    "########################################################################################\n",
    "### Correlação ###################################################################\n",
    "########################################################################################        \n",
    "        y1 = ILearning.Asy(Wc,xr,it_max);\n",
    "\n",
    "        Error = norm(U[:,1]-y1)\n",
    "\n",
    "        if Error<1.e-4\n",
    "            Success_0[j] = Success_0[j] + 1\n",
    "        end\n",
    "    \n",
    "########################################################################################\n",
    "### Storkey de Primeira ordem ##################################################################\n",
    "########################################################################################   \n",
    "        \n",
    "        y2 = ILearning.Asy(W1,xr,it_max); \n",
    "        \n",
    "        Error = norm(U[:,1]-y2)\n",
    "\n",
    "        if Error<1.e-4\n",
    "            Success_1[j] = Success_1[j] + 1\n",
    "        end\n",
    "        \n",
    "        y3 = ILearning.Asy(Wp,xr,it_max); \n",
    "        \n",
    "        Error = norm(U[:,1]-y3)\n",
    "\n",
    "        if Error<1.e-4\n",
    "            Success_2[j] = Success_2[j] + 1\n",
    "        end \n",
    "        \n",
    "        y4 = ILearning.Asy(W2,xr,it_max); \n",
    "        \n",
    "        Error = norm(U[:,1]-y4)\n",
    "\n",
    "        if Error<1.e-4\n",
    "            Success_3[j] = Success_3[j] + 1\n",
    "        end       \n",
    "        \n",
    "    Success_total_0[i] = sum(Success_0)/Nsim\n",
    "    Success_total_1[i] = sum(Success_1)/Nsim\n",
    "    Success_total_2[i] = sum(Success_2)/Nsim\n",
    "    Success_total_3[i] = sum(Success_3)/Nsim\n",
    "        \n",
    "end\n",
    "    \n",
    "end\n",
    "\n",
    "@save \"JLDs/FixedNoise_Comparison_P.jld2\" Success_total_0 Success_total_1 Success_total_2 Success_total_3  NoiseValues Pv"
   ]
  },
  {
   "cell_type": "code",
   "execution_count": null,
   "metadata": {},
   "outputs": [],
   "source": [
    "@load \"JLDs/FixedNoise_Comparison_P.jld2\"\n",
    "rcParams = PyPlot.PyDict(PyPlot.matplotlib.\"rcParams\")\n",
    "font0 = Dict(\n",
    "        \"font.size\" => 18,\n",
    "        \"axes.labelweight\" => \"bold\",\n",
    "        \"axes.labelsize\" => 16,\n",
    "        \"xtick.labelsize\" => 16,\n",
    "        \"ytick.labelsize\" => 16,\n",
    "        \"legend.fontsize\" => 13,\n",
    ")\n",
    "merge!(rcParams, font0)\n",
    "plot(Pv,Success_total_1,linewidth=1.5,color=\"red\",linestyle =\"dashed\", marker=\"o\",markersize = 10,\n",
    "             markeredgewidth=1.5, markeredgecolor=(0,0,0),label = \"1st Order Storkey\")\n",
    "\n",
    "plot(Pv,Success_total_3,color=\"#2ca02c\",linestyle =\"dashed\", marker=\">\",markersize = 10,markeredgewidth=1.5, markeredgecolor=(0,0,0),label = \"2nd Order Storkey\")\n",
    "\n",
    "plot(Pv,Success_total_0,color=\"orange\",linestyle =\"solid\", marker=\"s\",markersize = 10,markeredgewidth=1.5, markeredgecolor=(0,0,0),label = \"Hebb learning\")\n",
    "\n",
    "plot(Pv,Success_total_2,linewidth=1,color=\"blue\",linestyle =\"solid\",markersize = 10,markeredgewidth=1.5, markeredgecolor=(0,0,0), marker=\"d\",label = \"Projection rule\")\n",
    "\n",
    "xlabel(\"Number of Memories\")\n",
    "ylabel(\"Recall Probability\")\n",
    "\n",
    "legend()\n",
    "grid()\n",
    "\n",
    "savefig(\"Figures/RealRecall_P.eps\")\n",
    "savefig(\"Figures/RealRecall_P.pdf\")"
   ]
  },
  {
   "cell_type": "code",
   "execution_count": null,
   "metadata": {},
   "outputs": [],
   "source": []
  },
  {
   "cell_type": "code",
   "execution_count": null,
   "metadata": {},
   "outputs": [],
   "source": []
  }
 ],
 "metadata": {
  "kernelspec": {
   "display_name": "Julia 1.3.1",
   "language": "julia",
   "name": "julia-1.3"
  },
  "language_info": {
   "file_extension": ".jl",
   "mimetype": "application/julia",
   "name": "julia",
   "version": "1.3.1"
  }
 },
 "nbformat": 4,
 "nbformat_minor": 2
}
